{
 "cells": [
  {
   "cell_type": "code",
   "execution_count": 1,
   "id": "66780c89",
   "metadata": {},
   "outputs": [],
   "source": [
    "import numpy as np\n",
    "from WCST import WcstSession"
   ]
  },
  {
   "cell_type": "code",
   "execution_count": 20,
   "id": "79daf212",
   "metadata": {},
   "outputs": [],
   "source": [
    "session = WcstSession(num_cards=4, num_dims=3, trials_to_crit1=[2,2], trials_to_crit2=None)"
   ]
  },
  {
   "cell_type": "code",
   "execution_count": 21,
   "id": "d39db397",
   "metadata": {},
   "outputs": [
    {
     "data": {
      "text/plain": [
       "5"
      ]
     },
     "execution_count": 21,
     "metadata": {},
     "output_type": "execute_result"
    }
   ],
   "source": [
    "session.current_rule"
   ]
  },
  {
   "cell_type": "code",
   "execution_count": 22,
   "id": "fb97fc54",
   "metadata": {},
   "outputs": [
    {
     "data": {
      "text/plain": [
       "array([[ 2,  4,  8],\n",
       "       [ 3,  5, 10],\n",
       "       [ 0,  6, 11],\n",
       "       [ 1,  7,  9]])"
      ]
     },
     "execution_count": 22,
     "metadata": {},
     "output_type": "execute_result"
    }
   ],
   "source": [
    "session.get_cards()"
   ]
  },
  {
   "cell_type": "code",
   "execution_count": 23,
   "id": "918e7810",
   "metadata": {},
   "outputs": [
    {
     "data": {
      "text/plain": [
       "False"
      ]
     },
     "execution_count": 23,
     "metadata": {},
     "output_type": "execute_result"
    }
   ],
   "source": [
    "session.make_selection(0)"
   ]
  },
  {
   "cell_type": "code",
   "execution_count": 24,
   "id": "ab54bbea",
   "metadata": {},
   "outputs": [
    {
     "data": {
      "text/plain": [
       "5"
      ]
     },
     "execution_count": 24,
     "metadata": {},
     "output_type": "execute_result"
    }
   ],
   "source": [
    "session.current_rule"
   ]
  },
  {
   "cell_type": "code",
   "execution_count": 25,
   "id": "97fbbbd8",
   "metadata": {},
   "outputs": [
    {
     "data": {
      "text/plain": [
       "array([[ 3,  4,  9],\n",
       "       [ 1,  5, 10],\n",
       "       [ 0,  6, 11],\n",
       "       [ 2,  7,  8]])"
      ]
     },
     "execution_count": 25,
     "metadata": {},
     "output_type": "execute_result"
    }
   ],
   "source": [
    "session.get_cards()"
   ]
  },
  {
   "cell_type": "code",
   "execution_count": 26,
   "id": "095ab723",
   "metadata": {},
   "outputs": [
    {
     "data": {
      "text/plain": [
       "True"
      ]
     },
     "execution_count": 26,
     "metadata": {},
     "output_type": "execute_result"
    }
   ],
   "source": [
    "session.make_selection(1)"
   ]
  },
  {
   "cell_type": "code",
   "execution_count": 27,
   "id": "d94dabbb",
   "metadata": {},
   "outputs": [
    {
     "data": {
      "text/plain": [
       "5"
      ]
     },
     "execution_count": 27,
     "metadata": {},
     "output_type": "execute_result"
    }
   ],
   "source": [
    "session.current_rule"
   ]
  },
  {
   "cell_type": "code",
   "execution_count": 28,
   "id": "207d6a8f",
   "metadata": {},
   "outputs": [
    {
     "data": {
      "text/plain": [
       "array([[ 1,  4,  8],\n",
       "       [ 2,  7, 10],\n",
       "       [ 0,  6, 11],\n",
       "       [ 3,  5,  9]])"
      ]
     },
     "execution_count": 28,
     "metadata": {},
     "output_type": "execute_result"
    }
   ],
   "source": [
    "session.get_cards()"
   ]
  },
  {
   "cell_type": "code",
   "execution_count": 29,
   "id": "f9ec164f",
   "metadata": {},
   "outputs": [
    {
     "data": {
      "text/plain": [
       "True"
      ]
     },
     "execution_count": 29,
     "metadata": {},
     "output_type": "execute_result"
    }
   ],
   "source": [
    "session.make_selection(3)"
   ]
  },
  {
   "cell_type": "code",
   "execution_count": 30,
   "id": "2123b0b8",
   "metadata": {},
   "outputs": [
    {
     "data": {
      "text/plain": [
       "10"
      ]
     },
     "execution_count": 30,
     "metadata": {},
     "output_type": "execute_result"
    }
   ],
   "source": [
    "session.current_rule"
   ]
  },
  {
   "cell_type": "code",
   "execution_count": 32,
   "id": "2a7abc96",
   "metadata": {},
   "outputs": [
    {
     "data": {
      "text/plain": [
       "array([[ 1,  5,  8],\n",
       "       [ 2,  4, 10],\n",
       "       [ 3,  6, 11],\n",
       "       [ 0,  7,  9]])"
      ]
     },
     "execution_count": 32,
     "metadata": {},
     "output_type": "execute_result"
    }
   ],
   "source": [
    "session.get_cards()"
   ]
  },
  {
   "cell_type": "code",
   "execution_count": 33,
   "id": "2fa48797",
   "metadata": {},
   "outputs": [
    {
     "data": {
      "text/plain": [
       "False"
      ]
     },
     "execution_count": 33,
     "metadata": {},
     "output_type": "execute_result"
    }
   ],
   "source": [
    "session.make_selection(0)"
   ]
  },
  {
   "cell_type": "code",
   "execution_count": 34,
   "id": "8789b132",
   "metadata": {
    "scrolled": true
   },
   "outputs": [
    {
     "data": {
      "text/html": [
       "<div>\n",
       "<style scoped>\n",
       "    .dataframe tbody tr th:only-of-type {\n",
       "        vertical-align: middle;\n",
       "    }\n",
       "\n",
       "    .dataframe tbody tr th {\n",
       "        vertical-align: top;\n",
       "    }\n",
       "\n",
       "    .dataframe thead th {\n",
       "        text-align: right;\n",
       "    }\n",
       "</style>\n",
       "<table border=\"1\" class=\"dataframe\">\n",
       "  <thead>\n",
       "    <tr style=\"text-align: right;\">\n",
       "      <th></th>\n",
       "      <th>TrialNumber</th>\n",
       "      <th>BlockNumber</th>\n",
       "      <th>TrialAfterRuleChange</th>\n",
       "      <th>Response</th>\n",
       "      <th>ItemChosen</th>\n",
       "      <th>CurrentRule</th>\n",
       "      <th>Item0 Dim0</th>\n",
       "      <th>Item0 Dim1</th>\n",
       "      <th>Item0 Dim2</th>\n",
       "      <th>Item1 Dim0</th>\n",
       "      <th>Item1 Dim1</th>\n",
       "      <th>Item1 Dim2</th>\n",
       "      <th>Item2 Dim0</th>\n",
       "      <th>Item2 Dim1</th>\n",
       "      <th>Item2 Dim2</th>\n",
       "      <th>Item3 Dim0</th>\n",
       "      <th>Item3 Dim1</th>\n",
       "      <th>Item3 Dim2</th>\n",
       "    </tr>\n",
       "  </thead>\n",
       "  <tbody>\n",
       "    <tr>\n",
       "      <th>0</th>\n",
       "      <td>0</td>\n",
       "      <td>0</td>\n",
       "      <td>0</td>\n",
       "      <td>Incorrect</td>\n",
       "      <td>0</td>\n",
       "      <td>5</td>\n",
       "      <td>2</td>\n",
       "      <td>4</td>\n",
       "      <td>8</td>\n",
       "      <td>3</td>\n",
       "      <td>5</td>\n",
       "      <td>10</td>\n",
       "      <td>0</td>\n",
       "      <td>6</td>\n",
       "      <td>11</td>\n",
       "      <td>1</td>\n",
       "      <td>7</td>\n",
       "      <td>9</td>\n",
       "    </tr>\n",
       "    <tr>\n",
       "      <th>1</th>\n",
       "      <td>1</td>\n",
       "      <td>0</td>\n",
       "      <td>1</td>\n",
       "      <td>Correct</td>\n",
       "      <td>1</td>\n",
       "      <td>5</td>\n",
       "      <td>3</td>\n",
       "      <td>4</td>\n",
       "      <td>9</td>\n",
       "      <td>1</td>\n",
       "      <td>5</td>\n",
       "      <td>10</td>\n",
       "      <td>0</td>\n",
       "      <td>6</td>\n",
       "      <td>11</td>\n",
       "      <td>2</td>\n",
       "      <td>7</td>\n",
       "      <td>8</td>\n",
       "    </tr>\n",
       "    <tr>\n",
       "      <th>2</th>\n",
       "      <td>2</td>\n",
       "      <td>0</td>\n",
       "      <td>2</td>\n",
       "      <td>Correct</td>\n",
       "      <td>3</td>\n",
       "      <td>5</td>\n",
       "      <td>1</td>\n",
       "      <td>4</td>\n",
       "      <td>8</td>\n",
       "      <td>2</td>\n",
       "      <td>7</td>\n",
       "      <td>10</td>\n",
       "      <td>0</td>\n",
       "      <td>6</td>\n",
       "      <td>11</td>\n",
       "      <td>3</td>\n",
       "      <td>5</td>\n",
       "      <td>9</td>\n",
       "    </tr>\n",
       "    <tr>\n",
       "      <th>3</th>\n",
       "      <td>3</td>\n",
       "      <td>1</td>\n",
       "      <td>0</td>\n",
       "      <td>Incorrect</td>\n",
       "      <td>0</td>\n",
       "      <td>10</td>\n",
       "      <td>1</td>\n",
       "      <td>5</td>\n",
       "      <td>8</td>\n",
       "      <td>2</td>\n",
       "      <td>4</td>\n",
       "      <td>10</td>\n",
       "      <td>3</td>\n",
       "      <td>6</td>\n",
       "      <td>11</td>\n",
       "      <td>0</td>\n",
       "      <td>7</td>\n",
       "      <td>9</td>\n",
       "    </tr>\n",
       "  </tbody>\n",
       "</table>\n",
       "</div>"
      ],
      "text/plain": [
       "   TrialNumber  BlockNumber  TrialAfterRuleChange   Response  ItemChosen  \\\n",
       "0            0            0                     0  Incorrect           0   \n",
       "1            1            0                     1    Correct           1   \n",
       "2            2            0                     2    Correct           3   \n",
       "3            3            1                     0  Incorrect           0   \n",
       "\n",
       "   CurrentRule  Item0 Dim0  Item0 Dim1  Item0 Dim2  Item1 Dim0  Item1 Dim1  \\\n",
       "0            5           2           4           8           3           5   \n",
       "1            5           3           4           9           1           5   \n",
       "2            5           1           4           8           2           7   \n",
       "3           10           1           5           8           2           4   \n",
       "\n",
       "   Item1 Dim2  Item2 Dim0  Item2 Dim1  Item2 Dim2  Item3 Dim0  Item3 Dim1  \\\n",
       "0          10           0           6          11           1           7   \n",
       "1          10           0           6          11           2           7   \n",
       "2          10           0           6          11           3           5   \n",
       "3          10           3           6          11           0           7   \n",
       "\n",
       "   Item3 Dim2  \n",
       "0           9  \n",
       "1           8  \n",
       "2           9  \n",
       "3           9  "
      ]
     },
     "execution_count": 34,
     "metadata": {},
     "output_type": "execute_result"
    }
   ],
   "source": [
    "session.dump_history()"
   ]
  },
  {
   "cell_type": "code",
   "execution_count": null,
   "id": "2cefa7e8",
   "metadata": {},
   "outputs": [],
   "source": []
  },
  {
   "cell_type": "code",
   "execution_count": null,
   "id": "3533720f",
   "metadata": {},
   "outputs": [],
   "source": []
  }
 ],
 "metadata": {
  "kernelspec": {
   "display_name": "Python 3",
   "language": "python",
   "name": "python3"
  },
  "language_info": {
   "codemirror_mode": {
    "name": "ipython",
    "version": 3
   },
   "file_extension": ".py",
   "mimetype": "text/x-python",
   "name": "python",
   "nbconvert_exporter": "python",
   "pygments_lexer": "ipython3",
   "version": "3.8.8"
  }
 },
 "nbformat": 4,
 "nbformat_minor": 5
}
