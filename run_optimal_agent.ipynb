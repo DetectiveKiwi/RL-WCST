{
 "cells": [
  {
   "cell_type": "code",
   "execution_count": 1,
   "id": "43c210e6",
   "metadata": {},
   "outputs": [],
   "source": [
    "# Import necessary functions\n",
    "import numpy as np\n",
    "import matplotlib.pyplot as plt\n",
    "\n",
    "# Gathers task environment\n",
    "from WCST import WcstSession\n",
    "\n",
    "# Gathers agent\n",
    "from optimal_agent import OptimalAgent\n",
    "\n",
    "# Defines a useful function that we will use later\n",
    "def moving_average(a, n):\n",
    "    \"\"\"\n",
    "    Calculates the moving average of an array.\n",
    "    Function taken from Jaime here:\n",
    "    https://stackoverflow.com/questions/14313510/how-to-calculate-moving-average-using-numpy\n",
    "    \n",
    "    Parameters\n",
    "    --------------\n",
    "    a: array to be averaged\n",
    "    n: size of window\n",
    "    \n",
    "    Returns\n",
    "    --------------\n",
    "    Moving average\n",
    "    \"\"\"\n",
    "    ret = np.cumsum(a, dtype=float)\n",
    "    ret[n:] = ret[n:] - ret[:-n]\n",
    "    return ret[n - 1:] / n"
   ]
  },
  {
   "cell_type": "code",
   "execution_count": 2,
   "id": "605568c1",
   "metadata": {},
   "outputs": [],
   "source": [
    "num_cards = 4\n",
    "sess = WcstSession()\n",
    "agent = OptimalAgent()"
   ]
  },
  {
   "cell_type": "code",
   "execution_count": 3,
   "id": "108926d1",
   "metadata": {},
   "outputs": [
    {
     "data": {
      "text/plain": [
       "Text(0.5, 1.0, 'No Rule Change')"
      ]
     },
     "execution_count": 3,
     "metadata": {},
     "output_type": "execute_result"
    },
    {
     "data": {
      "image/png": "[encoded data removed]",
      "text/plain": [
       "<Figure size 432x288 with 1 Axes>"
      ]
     },
     "metadata": {
      "needs_background": "light"
     },
     "output_type": "display_data"
    }
   ],
   "source": [
    "scores = []\n",
    "for i in range(1000):\n",
    "    cards = sess.get_cards()\n",
    "\n",
    "    action = agent.make_selection(cards)\n",
    "\n",
    "    feedback = sess.make_selection(action)\n",
    "    agent.evaluate_feedback(feedback)\n",
    "\n",
    "    scores.append(feedback)\n",
    "\n",
    "plt.plot(moving_average(scores,100))\n",
    "plt.axhline(1. / num_cards, color='black', linestyle='dashed')\n",
    "plt.axhline(1., color='black', linestyle='dashed')\n",
    "plt.xlabel('Trial Number')\n",
    "plt.ylabel('Percent Correct Over 100 trials')\n",
    "plt.title('No Rule Change')"
   ]
  },
  {
   "cell_type": "code",
   "execution_count": 5,
   "id": "ba60907c",
   "metadata": {},
   "outputs": [],
   "source": [
    "scores = []\n",
    "for i in range(100000):\n",
    "    cards = sess.get_cards()\n",
    "\n",
    "    action = agent.make_selection(cards)\n",
    "\n",
    "    feedback = sess.make_selection(action)\n",
    "    agent.evaluate_feedback(feedback)\n",
    "\n",
    "    scores.append(feedback)"
   ]
  },
  {
   "cell_type": "code",
   "execution_count": 16,
   "id": "8e2f8d38",
   "metadata": {},
   "outputs": [],
   "source": [
    "mean_score = np.mean(np.array(scores).reshape((-1,100)), axis=-1)"
   ]
  },
  {
   "cell_type": "code",
   "execution_count": 25,
   "id": "59ca442c",
   "metadata": {},
   "outputs": [
    {
     "name": "stdout",
     "output_type": "stream",
     "text": [
      "For 100 trials, 0.75 +/- 0.03 percent of trials are correct\n"
     ]
    }
   ],
   "source": [
    "print(\n",
    "    'For 100 trials,',\n",
    "    np.round(np.mean(mean_score),2),\n",
    "    '+/-',\n",
    "    np.round(np.std(mean_score),2),\n",
    "    'percent of trials are correct'\n",
    ")"
   ]
  },
  {
   "cell_type": "code",
   "execution_count": null,
   "id": "bf5348eb",
   "metadata": {},
   "outputs": [],
   "source": []
  },
  {
   "cell_type": "code",
   "execution_count": null,
   "id": "cae88a02",
   "metadata": {},
   "outputs": [],
   "source": []
  }
 ],
 "metadata": {
  "kernelspec": {
   "display_name": "Python 3",
   "language": "python",
   "name": "python3"
  },
  "language_info": {
   "codemirror_mode": {
    "name": "ipython",
    "version": 3
   },
   "file_extension": ".py",
   "mimetype": "text/x-python",
   "name": "python",
   "nbconvert_exporter": "python",
   "pygments_lexer": "ipython3",
   "version": "3.8.8"
  }
 },
 "nbformat": 4,
 "nbformat_minor": 5
}
